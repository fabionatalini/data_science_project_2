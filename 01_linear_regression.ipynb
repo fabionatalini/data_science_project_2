{
 "cells": [
  {
   "cell_type": "code",
   "execution_count": 1,
   "metadata": {},
   "outputs": [
    {
     "name": "stdout",
     "output_type": "stream",
     "text": [
      "<SparkContext master=local[*] appName=PySparkShell>\n",
      "Spark version: 3.1.2\n",
      "<pyspark.sql.session.SparkSession object at 0x7f5ea6800550>\n"
     ]
    }
   ],
   "source": [
    "print(sc)\n",
    "print(\"Spark version: {a}\".format(a=sc.version))\n",
    "print(spark)"
   ]
  },
  {
   "cell_type": "code",
   "execution_count": 2,
   "metadata": {},
   "outputs": [],
   "source": [
    "from pyspark.ml.regression import LinearRegression\n",
    "#from pyspark.ml.evaluation import RegressionEvaluator\n",
    "from sklearn.datasets import load_diabetes\n",
    "import pandas\n",
    "from pyspark.ml.feature import VectorAssembler"
   ]
  },
  {
   "cell_type": "code",
   "execution_count": 3,
   "metadata": {},
   "outputs": [
    {
     "name": "stdout",
     "output_type": "stream",
     "text": [
      "+--------+--------+--------+--------+--------+--------+--------+--------+--------+--------+------+\n",
      "|     age|     sex|     bmi|      bp|      s1|      s2|      s3|      s4|      s5|      s6|target|\n",
      "+--------+--------+--------+--------+--------+--------+--------+--------+--------+--------+------+\n",
      "|0.038...|0.050...|0.061...|0.021...|-0.04...|-0.03...|-0.04...|-0.00...|0.019...|-0.01...| 151.0|\n",
      "|-0.00...|-0.04...|-0.05...|-0.02...|-0.00...|-0.01...|0.074...|-0.03...|-0.06...|-0.09...|  75.0|\n",
      "|0.085...|0.050...|0.044...|-0.00...|-0.04...|-0.03...|-0.03...|-0.00...|0.002...|-0.02...| 141.0|\n",
      "|-0.08...|-0.04...|-0.01...|-0.03...|0.012...|0.024...|-0.03...|0.034...|0.022...|-0.00...| 206.0|\n",
      "|0.005...|-0.04...|-0.03...|0.021...|0.003...|0.015...|0.008...|-0.00...|-0.03...|-0.04...| 135.0|\n",
      "|-0.09...|-0.04...|-0.04...|-0.01...|-0.06...|-0.07...|0.041...|-0.07...|-0.04...|-0.09...|  97.0|\n",
      "|-0.04...|0.050...|-0.04...|-0.01...|-0.04...|-0.02...|7.788...|-0.03...|-0.06...|-0.03...| 138.0|\n",
      "|0.063...|0.050...|-0.00...|0.066...|0.090...|0.108...|0.022...|0.017...|-0.03...|0.003...|  63.0|\n",
      "|0.041...|0.050...|0.061...|-0.04...|-0.01...|0.006...|-0.02...|-0.00...|-0.01...|0.011...| 110.0|\n",
      "|-0.07...|-0.04...|0.039...|-0.03...|-0.01...|-0.03...|-0.02...|-0.00...|0.067...|-0.01...| 310.0|\n",
      "+--------+--------+--------+--------+--------+--------+--------+--------+--------+--------+------+\n",
      "only showing top 10 rows\n",
      "\n"
     ]
    }
   ],
   "source": [
    "diabetes=load_diabetes()\n",
    "datos = pandas.DataFrame(diabetes.data, columns=diabetes.feature_names)\n",
    "datos['target'] = pandas.Series(diabetes.target)\n",
    "datos=spark.createDataFrame(datos)\n",
    "datos.show(n=10,truncate=8,vertical=False)"
   ]
  },
  {
   "cell_type": "code",
   "execution_count": 10,
   "metadata": {},
   "outputs": [],
   "source": [
    "def prepare_data(df,xs,print_outcome=True):\n",
    "    vAssembler = VectorAssembler(inputCols=xs,outputCol='features')\n",
    "    vdatos = vAssembler.transform(df).select(['features', 'target'])\n",
    "    traindata, testdata = vdatos.randomSplit(weights=[0.7, 0.3],seed=123)\n",
    "    if print_outcome==True:\n",
    "        traindata.show(n=5,truncate=50,vertical=False)\n",
    "        testdata.show(n=5,truncate=50,vertical=False)\n",
    "    return(dict(train_set=traindata, test_set=testdata))\n",
    "\n",
    "def do_model(df_train,print_outcome=True):\n",
    "    lr = LinearRegression(\n",
    "        featuresCol='features', labelCol='target', predictionCol='prediction',\n",
    "        regParam=0.0, #no regularization\n",
    "        fitIntercept=True,\n",
    "        standardization=False,\n",
    "        loss='squaredError')\n",
    "    lr_model = lr.fit(df_train)\n",
    "    if print_outcome==True:\n",
    "        print(\"Adjusted R squared: {a} \\n\".format(a=lr_model.summary.r2adj))\n",
    "        print(\"RMSE: {a}\".format(a=lr_model.summary.rootMeanSquaredError))\n",
    "    return(lr_model)"
   ]
  },
  {
   "cell_type": "code",
   "execution_count": 11,
   "metadata": {},
   "outputs": [
    {
     "name": "stdout",
     "output_type": "stream",
     "text": [
      "+--------------------------------------------------+------+\n",
      "|                                          features|target|\n",
      "+--------------------------------------------------+------+\n",
      "|[-0.107225631607358,-0.044641636506989,-0.07734...| 137.0|\n",
      "|[-0.103593093156339,-0.044641636506989,-0.03746...| 113.0|\n",
      "|[-0.0963280162542995,-0.044641636506989,-0.0838...| 101.0|\n",
      "|[-0.0963280162542995,-0.044641636506989,-0.0762...| 134.0|\n",
      "|[-0.0963280162542995,-0.044641636506989,-0.0697...| 158.0|\n",
      "+--------------------------------------------------+------+\n",
      "only showing top 5 rows\n",
      "\n",
      "+--------------------------------------------------+------+\n",
      "|                                          features|target|\n",
      "+--------------------------------------------------+------+\n",
      "|[-0.099960554705319,-0.044641636506989,-0.06764...|  55.0|\n",
      "|[-0.0963280162542995,-0.044641636506989,-0.0363...| 200.0|\n",
      "|[-0.0926954778032799,-0.044641636506989,0.02828...| 302.0|\n",
      "|[-0.0890629393522603,-0.044641636506989,-0.0115...| 206.0|\n",
      "|[-0.0854304009012408,-0.044641636506989,-0.0040...|  68.0|\n",
      "+--------------------------------------------------+------+\n",
      "only showing top 5 rows\n",
      "\n",
      "Adjusted R squared: 0.5126397975619919 \n",
      "\n",
      "RMSE: 52.87927110899013\n",
      "+-------+------------------+\n",
      "|summary|            target|\n",
      "+-------+------------------+\n",
      "|  count|               442|\n",
      "|   mean|152.13348416289594|\n",
      "| stddev| 77.09300453299109|\n",
      "|    min|              25.0|\n",
      "|    max|             346.0|\n",
      "+-------+------------------+\n",
      "\n"
     ]
    }
   ],
   "source": [
    "splitted_data=prepare_data(df=datos, xs=list(datos.columns[0:-1]))\n",
    "\n",
    "modelo=do_model(df_train=splitted_data['train_set'])\n",
    "\n",
    "datos.select('target').describe().show()"
   ]
  },
  {
   "cell_type": "code",
   "execution_count": 6,
   "metadata": {},
   "outputs": [
    {
     "data": {
      "text/html": [
       "<div>\n",
       "<style scoped>\n",
       "    .dataframe tbody tr th:only-of-type {\n",
       "        vertical-align: middle;\n",
       "    }\n",
       "\n",
       "    .dataframe tbody tr th {\n",
       "        vertical-align: top;\n",
       "    }\n",
       "\n",
       "    .dataframe thead th {\n",
       "        text-align: right;\n",
       "    }\n",
       "</style>\n",
       "<table border=\"1\" class=\"dataframe\">\n",
       "  <thead>\n",
       "    <tr style=\"text-align: right;\">\n",
       "      <th></th>\n",
       "      <th>estimate</th>\n",
       "      <th>p values</th>\n",
       "    </tr>\n",
       "  </thead>\n",
       "  <tbody>\n",
       "    <tr>\n",
       "      <th>age</th>\n",
       "      <td>-8.692342</td>\n",
       "      <td>9.027008e-01</td>\n",
       "    </tr>\n",
       "    <tr>\n",
       "      <th>sex</th>\n",
       "      <td>-223.883324</td>\n",
       "      <td>2.849621e-03</td>\n",
       "    </tr>\n",
       "    <tr>\n",
       "      <th>bmi</th>\n",
       "      <td>513.054880</td>\n",
       "      <td>5.714629e-11</td>\n",
       "    </tr>\n",
       "    <tr>\n",
       "      <th>bp</th>\n",
       "      <td>278.001549</td>\n",
       "      <td>4.374466e-04</td>\n",
       "    </tr>\n",
       "    <tr>\n",
       "      <th>s1</th>\n",
       "      <td>-1090.910707</td>\n",
       "      <td>3.132334e-02</td>\n",
       "    </tr>\n",
       "    <tr>\n",
       "      <th>s2</th>\n",
       "      <td>651.827811</td>\n",
       "      <td>1.171414e-01</td>\n",
       "    </tr>\n",
       "    <tr>\n",
       "      <th>s3</th>\n",
       "      <td>301.628362</td>\n",
       "      <td>2.314252e-01</td>\n",
       "    </tr>\n",
       "    <tr>\n",
       "      <th>s4</th>\n",
       "      <td>443.292881</td>\n",
       "      <td>2.053897e-02</td>\n",
       "    </tr>\n",
       "    <tr>\n",
       "      <th>s5</th>\n",
       "      <td>779.027175</td>\n",
       "      <td>1.869308e-04</td>\n",
       "    </tr>\n",
       "    <tr>\n",
       "      <th>s6</th>\n",
       "      <td>77.692155</td>\n",
       "      <td>3.148062e-01</td>\n",
       "    </tr>\n",
       "    <tr>\n",
       "      <th>intercept</th>\n",
       "      <td>151.786706</td>\n",
       "      <td>0.000000e+00</td>\n",
       "    </tr>\n",
       "  </tbody>\n",
       "</table>\n",
       "</div>"
      ],
      "text/plain": [
       "              estimate      p values\n",
       "age          -8.692342  9.027008e-01\n",
       "sex        -223.883324  2.849621e-03\n",
       "bmi         513.054880  5.714629e-11\n",
       "bp          278.001549  4.374466e-04\n",
       "s1        -1090.910707  3.132334e-02\n",
       "s2          651.827811  1.171414e-01\n",
       "s3          301.628362  2.314252e-01\n",
       "s4          443.292881  2.053897e-02\n",
       "s5          779.027175  1.869308e-04\n",
       "s6           77.692155  3.148062e-01\n",
       "intercept   151.786706  0.000000e+00"
      ]
     },
     "execution_count": 6,
     "metadata": {},
     "output_type": "execute_result"
    }
   ],
   "source": [
    "def show_pvalues(trained_model,xs):\n",
    "    estimate=list(trained_model.coefficients)\n",
    "    estimate.append(trained_model.intercept)\n",
    "    nombres=xs\n",
    "    nombres.append(\"intercept\")\n",
    "    outcome=pandas.DataFrame(estimate,columns=[\"estimate\"],index=nombres)\n",
    "    outcome[\"p values\"]=list(trained_model.summary.pValues)\n",
    "    return(outcome)\n",
    "\n",
    "results=show_pvalues(trained_model=modelo, xs=list(datos.columns[0:-1]))\n",
    "results"
   ]
  },
  {
   "cell_type": "code",
   "execution_count": null,
   "metadata": {},
   "outputs": [],
   "source": []
  }
 ],
 "metadata": {
  "kernelspec": {
   "display_name": "Python 3",
   "language": "python",
   "name": "python3"
  },
  "language_info": {
   "codemirror_mode": {
    "name": "ipython",
    "version": 3
   },
   "file_extension": ".py",
   "mimetype": "text/x-python",
   "name": "python",
   "nbconvert_exporter": "python",
   "pygments_lexer": "ipython3",
   "version": "3.8.2"
  }
 },
 "nbformat": 4,
 "nbformat_minor": 4
}
