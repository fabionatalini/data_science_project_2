{
 "cells": [
  {
   "cell_type": "code",
   "execution_count": null,
   "metadata": {},
   "outputs": [],
   "source": [
    "from pyspark.ml.regression import LinearRegression\n",
    "\n",
    "# Load training data\n",
    "ruta=\"/home/fabio/Downloads/spark-3.1.2-bin-hadoop3.2/data/mllib/\"\n",
    "fichero=\"sample_linear_regression_data.txt\"\n",
    "\n",
    "traindata = spark.read.format(\"libsvm\").load(ruta+fichero)\n",
    "\n",
    "# Model\n",
    "lr = LinearRegression(maxIter=10, regParam=0.3, elasticNetParam=0.8)\n",
    "lrModel = lr.fit(traindata)\n",
    "\n",
    "# Print the intercept, the coefficients and some metrics of the model\n",
    "print(\"Intercept: {a}\".format(a=str(lrModel.intercept)))\n",
    "print(\"Coefficients: {a}\".format(a=str(lrModel.coefficients)))\n",
    "trainingSummary = lrModel.summary\n",
    "print(\"RMSE: {a}\".format(a=trainingSummary.rootMeanSquaredError))\n",
    "print(\"R^2: {a}\".format(a=trainingSummary.r2))"
   ]
  }
 ],
 "metadata": {
  "kernelspec": {
   "display_name": "Python 3",
   "language": "python",
   "name": "python3"
  },
  "language_info": {
   "codemirror_mode": {
    "name": "ipython",
    "version": 3
   },
   "file_extension": ".py",
   "mimetype": "text/x-python",
   "name": "python",
   "nbconvert_exporter": "python",
   "pygments_lexer": "ipython3",
   "version": "3.8.2"
  }
 },
 "nbformat": 4,
 "nbformat_minor": 4
}
