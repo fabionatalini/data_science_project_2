{
 "cells": [
  {
   "cell_type": "markdown",
   "metadata": {},
   "source": [
    "# Set up\n",
    "\n",
    "Download **Apache Spark** following the instructions at <a href=\"https://spark.apache.org/downloads.html\" target=\"_blank\">https://spark.apache.org/downloads.html</a>.\n",
    "After that, unzip the folder and move into the folder.\n",
    "Then run the following command to start using Spark with **pyspark**:"
   ]
  },
  {
   "cell_type": "code",
   "execution_count": null,
   "metadata": {},
   "outputs": [],
   "source": [
    "!./bin/pyspark"
   ]
  },
  {
   "cell_type": "markdown",
   "metadata": {},
   "source": [
    "This will open the Spark command line.\n",
    "If you want to use **jupyter**, set the env variable in `./conf/spark-env.sh` (if it doesn't exist, you can use  the template `spark-env.sh.template`):"
   ]
  },
  {
   "cell_type": "code",
   "execution_count": null,
   "metadata": {},
   "outputs": [],
   "source": [
    "#Find the path of jupyter-lab in your system; in my case, it is\n",
    "#/home/fabio/miniconda3/envs/datasc/bin/\n",
    "#Go to conf within the unzipped folder and make a copy of the template\n",
    "!cd /home/fabio/Downloads/spark-3.1.2-bin-hadoop3.2/conf\n",
    "!cp spark-env.sh.template spark-env.sh\n",
    "#Now open spark-env.sh and add the following line:\n",
    "PYSPARK_DRIVER_PYTHON=/home/fabio/miniconda3/envs/datasc/bin/jupyter-lab"
   ]
  },
  {
   "cell_type": "markdown",
   "metadata": {},
   "source": [
    "Now you can create a folder to store the notebooks and launch Spark using jupyter:"
   ]
  },
  {
   "cell_type": "code",
   "execution_count": null,
   "metadata": {},
   "outputs": [],
   "source": [
    "!cd /home/fabio/Downloads/spark-3.1.2-bin-hadoop3.2\n",
    "!mkdir my_notebooks\n",
    "!cd my_notebooks\n",
    "!../bin/pyspark"
   ]
  },
  {
   "cell_type": "markdown",
   "metadata": {},
   "source": [
    "This will lauch jupyter and your notebooks will be stored in the folder `my_notebooks`."
   ]
  },
  {
   "cell_type": "markdown",
   "metadata": {},
   "source": [
    "# Useful shortcuts in jupyter notebooks\n",
    "\n",
    "When the cursor is on a cell, press `esc`: this will take you to the command mode, where you can navigate around your notebook with the arrow keys.\n",
    "When you are in command mode you can use the following shortcuts:\n",
    "* press `A` to insert a new cell above the current cell;\n",
    "* press `B` to insert a new cell below;\n",
    "* press `M` to change the current cell to Markdown;\n",
    "* press `Y` to change it back to code;\n",
    "* press `D` twice to delete the current cell."
   ]
  }
 ],
 "metadata": {
  "kernelspec": {
   "display_name": "Python 3",
   "language": "python",
   "name": "python3"
  },
  "language_info": {
   "codemirror_mode": {
    "name": "ipython",
    "version": 3
   },
   "file_extension": ".py",
   "mimetype": "text/x-python",
   "name": "python",
   "nbconvert_exporter": "python",
   "pygments_lexer": "ipython3",
   "version": "3.8.2"
  }
 },
 "nbformat": 4,
 "nbformat_minor": 4
}
